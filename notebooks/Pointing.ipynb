{
 "cells": [
  {
   "cell_type": "markdown",
   "id": "4736830d",
   "metadata": {},
   "source": [
    "# Simulating Pointing\n",
    "\n",
    "This is an attempt to simulate pointing errors. There are four frames that descibe the location of an object:\n",
    "\n",
    "1. the J2000 equatorial frame used by Stellarium\n",
    "2. the ICRS equatorial frame used by astropy\n",
    "3. the AltAz frame of the location and time\n",
    "4. the telecope frame\n",
    "\n",
    "There is a known, small difference between the first two. So small that we will ignore it for now. The transformation between frames 2 and 3 is handled by astropy. Refraction corrections should be enabled in astropy\n",
    "to match Stellarium's version. The final transformation, between 3 and 4, requires data from encoders, a pointing model, and an alignment model.\n",
    "\n",
    "Steps to simulate encoder data:\n",
    "\n",
    "1. Pick an object above the horizon and select it in Stellarium\n",
    "2. Using the `StellariumRPC` class, get Stellarium's: RA, Dec, Azi, Alt\n",
    "3. Have `astropy` compute an Azi and Alt from Stellarium's RA and Dec\n",
    "4. Simulate alignment using a known rotation matrix\n",
    "5. Simulate pointing by modeling mount/telescope imperfections\n",
    "6. Translate into encoder counts\n",
    "\n",
    "Steps to reconstruct Stellarium data:\n",
    "\n",
    "1. Need to compute alignment matrix and pointing model\n",
    "2. Translate from counts to Azi and Alt\n",
    "3. Have `astropy` compute an RA and Dec from these Azi and Alt\n",
    "4. Compare to the origonal RA and Dec\n"
   ]
  },
  {
   "cell_type": "code",
   "execution_count": 40,
   "id": "a74f1fe4",
   "metadata": {},
   "outputs": [],
   "source": [
    "import numpy as np\n",
    "import astropy.units as u\n",
    "from astropy.time import Time\n",
    "from astropy.coordinates import EarthLocation, SkyCoord, AltAz\n",
    "from pushto.stellarium import StellariumRPC\n",
    "from pushto.util import equatorial_to_horizontal\n",
    "from pushto.alignment import vec_from_angles, angles_from_vec"
   ]
  },
  {
   "cell_type": "code",
   "execution_count": 31,
   "id": "01b3f41d",
   "metadata": {},
   "outputs": [],
   "source": [
    "rpc = StellariumRPC()"
   ]
  },
  {
   "cell_type": "code",
   "execution_count": 32,
   "id": "43a9cb7c",
   "metadata": {},
   "outputs": [],
   "source": [
    "location = EarthLocation(lat=33.30167*u.deg, lon=-87.60750*u.deg, height=85*u.m)"
   ]
  },
  {
   "cell_type": "code",
   "execution_count": 34,
   "id": "e603a582",
   "metadata": {},
   "outputs": [],
   "source": [
    "R = np.identity(3)"
   ]
  },
  {
   "cell_type": "code",
   "execution_count": 35,
   "id": "f27679d4",
   "metadata": {},
   "outputs": [],
   "source": [
    "def get_true():\n",
    "    ra, dec = rpc.get_selected_ra_dec()\n",
    "    while ra < 0:\n",
    "        ra += 360\n",
    "    return ra, dec"
   ]
  },
  {
   "cell_type": "code",
   "execution_count": 36,
   "id": "d4dd723b",
   "metadata": {},
   "outputs": [],
   "source": [
    "def J2000_to_AltAz(ra, dec):\n",
    "    ra *= 24/360\n",
    "    return equatorial_to_horizontal(ra, dec, location=location, \n",
    "                                    pressure=1013*u.hPa, temperature=15*u.Celsius, rel_humidity=0.5)"
   ]
  },
  {
   "cell_type": "code",
   "execution_count": 41,
   "id": "ae27cb30",
   "metadata": {},
   "outputs": [],
   "source": [
    "def AltAz_to_TA(azi, alt):\n",
    "    \"\"\"\n",
    "    Need a known rotation matrix.\n",
    "    \"\"\"\n",
    "    v2 = vec_from_angles(alt, azi)\n",
    "    v1 = np.squeeze(np.asarray(np.matmul(R.T, v2)))\n",
    "    return angles_from_vec(v1)\n"
   ]
  },
  {
   "cell_type": "code",
   "execution_count": 45,
   "id": "628ffbeb",
   "metadata": {},
   "outputs": [],
   "source": [
    "def TA_to_cnts(phi, theta):\n",
    "    \"\"\"\n",
    "    Need mount errors and encoder/gearing stuff\n",
    "    \"\"\"\n",
    "    phi_npr   = 15000\n",
    "    theta_npr = 26400\n",
    "    \n",
    "    phi_cnt = int(phi*phi_npr/360)\n",
    "    theta_cnt = int(theta*theta_npr/360)\n",
    "    \n",
    "    return phi_cnt, theta_cnt\n",
    "    "
   ]
  },
  {
   "cell_type": "code",
   "execution_count": 46,
   "id": "365e45db",
   "metadata": {},
   "outputs": [
    {
     "name": "stdout",
     "output_type": "stream",
     "text": [
      "RA/Dec:    279.429,  38.805\n",
      "Azi/Alt:   291.260,  62.398\n",
      "Phi/Theta: 291.260,  62.398\n",
      "Pcnt/Tcnt:   12135,    4575\n"
     ]
    }
   ],
   "source": [
    "ra_true, dec_true = get_true()\n",
    "azi, alt = J2000_to_AltAz(ra_true, dec_true)\n",
    "theta, phi = AltAz_to_TA(azi, alt)\n",
    "pcnt, tcnt = TA_to_cnts(phi, theta)\n",
    "\n",
    "print(\"RA/Dec:    {:7.3f}, {:7.3f}\".format(ra_true, dec_true))\n",
    "print(\"Azi/Alt:   {:7.3f}, {:7.3f}\".format(azi, alt))\n",
    "print(\"Phi/Theta: {:7.3f}, {:7.3f}\".format(phi, theta))\n",
    "print(\"Pcnt/Tcnt: {:7d}, {:7d}\".format(pcnt, tcnt))"
   ]
  },
  {
   "cell_type": "code",
   "execution_count": null,
   "id": "89779a14",
   "metadata": {},
   "outputs": [],
   "source": []
  }
 ],
 "metadata": {
  "kernelspec": {
   "display_name": "Python 3 (ipykernel)",
   "language": "python",
   "name": "python3"
  },
  "language_info": {
   "codemirror_mode": {
    "name": "ipython",
    "version": 3
   },
   "file_extension": ".py",
   "mimetype": "text/x-python",
   "name": "python",
   "nbconvert_exporter": "python",
   "pygments_lexer": "ipython3",
   "version": "3.10.8"
  }
 },
 "nbformat": 4,
 "nbformat_minor": 5
}
