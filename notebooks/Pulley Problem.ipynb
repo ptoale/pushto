{
 "cells": [
  {
   "cell_type": "markdown",
   "id": "69962931",
   "metadata": {},
   "source": [
    "# The Pulley Problem\n",
    "\n",
    "The pulley problem is to find the length of belt needed to fit two pulleys. The pulleys have radii of $R$ and $r$ with $R \\ge r$. The pulleys are separated, center-to-center, by a distnace $D$. \n",
    "\n",
    "The angle between the tangent points on each pulley is\n",
    "$$\n",
    "\\theta = 2 \\cos^{-1}\\left(\\frac{R-r}{D}\\right)\n",
    "$$\n",
    "\n",
    "The length of belt is \n",
    "$$\n",
    "L = 2D\\sin(\\theta/2) + R(2\\pi - \\theta) + r\\theta\n",
    "$$\n",
    "\n",
    "The radius can be calculated by knowning the pitch of the belt ($p$) and the number of teeth on the pulley ($n$)\n",
    "$$\n",
    "r = \\frac{n p}{2\\pi}\n",
    "$$"
   ]
  },
  {
   "cell_type": "code",
   "execution_count": 1,
   "id": "93f95e07",
   "metadata": {},
   "outputs": [],
   "source": [
    "import numpy as np\n",
    "from scipy import optimize"
   ]
  },
  {
   "cell_type": "code",
   "execution_count": 2,
   "id": "ce0b02b3",
   "metadata": {},
   "outputs": [],
   "source": [
    "def radius(n, p=2):\n",
    "    \"\"\"\n",
    "    Get the radius of a pulley from the number of teeth.\n",
    "    \"\"\"\n",
    "    return n*p/(2*np.pi)"
   ]
  },
  {
   "cell_type": "code",
   "execution_count": 3,
   "id": "e01d5ec0",
   "metadata": {},
   "outputs": [],
   "source": [
    "def loop_length(D, N, n, p=2):\n",
    "    \"\"\"\n",
    "    Get the length of the loop from the separation and number of teeth.\n",
    "    \"\"\"\n",
    "    R = radius(N, p=p)\n",
    "    r = radius(n, p=p)\n",
    "    theta = 2*np.arccos((R-r)/D)\n",
    "    return 2*D*np.sin(theta/2) + R*(2*np.pi - theta) + r*theta"
   ]
  },
  {
   "cell_type": "code",
   "execution_count": 4,
   "id": "d9c5ae39",
   "metadata": {},
   "outputs": [],
   "source": [
    "def separation(L, N, n, p=2):\n",
    "    \"\"\"\n",
    "    Get the separation from the length of loop and the number of teeth.\n",
    "    \"\"\"\n",
    "\n",
    "    def func(D, L0, N, n, p):\n",
    "        return loop_length(D, N, n, p) - L0\n",
    "\n",
    "    R = radius(N, p=p)\n",
    "    r = radius(n, p=p)\n",
    "    D_min = R + r\n",
    "    sol = optimize.root_scalar(func, args=(L, N, n, 2), bracket=[D_min, 1000], method='brentq')\n",
    "    return sol.root"
   ]
  },
  {
   "cell_type": "code",
   "execution_count": 5,
   "id": "4bad2b0a",
   "metadata": {},
   "outputs": [],
   "source": [
    "# We have 2 belts: 16T-100T and 16T-176T\n",
    "n = 16\n",
    "N1 = 100\n",
    "N2 = 176"
   ]
  },
  {
   "cell_type": "code",
   "execution_count": 6,
   "id": "41844e2c",
   "metadata": {},
   "outputs": [
    {
     "name": "stdout",
     "output_type": "stream",
     "text": [
      "The shortest belt the could be used for 16T-100T is 210.23361741488313 mm\n",
      "The shortest belt the could be used for 16T-176T is 359.9082858333235 mm\n"
     ]
    }
   ],
   "source": [
    "L_min1 = loop_length(radius(N1) + radius(n), N1, n)\n",
    "L_min2 = loop_length(radius(N2) + radius(n), N2, n)\n",
    "print('The shortest belt the could be used for 16T-100T is %s mm' % L_min1)\n",
    "print('The shortest belt the could be used for 16T-176T is %s mm' % L_min2)"
   ]
  },
  {
   "cell_type": "code",
   "execution_count": 20,
   "id": "b02fce03",
   "metadata": {},
   "outputs": [
    {
     "name": "stdout",
     "output_type": "stream",
     "text": [
      "The length of loop needed for 16T-100T belt to have separation D = 7.0 in:\n",
      "  L = 562.2907242802717 mm = 22.137430089774476 in\n"
     ]
    }
   ],
   "source": [
    "D = 7.0\n",
    "L = loop_length(D*25.4, N2, n)\n",
    "print('The length of loop needed for 16T-100T belt to have separation D = %s in:' % D)\n",
    "print('  L = %s mm = %s in' % (L, L/25.4))"
   ]
  },
  {
   "cell_type": "code",
   "execution_count": 21,
   "id": "928672de",
   "metadata": {},
   "outputs": [
    {
     "name": "stdout",
     "output_type": "stream",
     "text": [
      "The separation of the 16T-176T belt for a loop of length L = 562.2907242802717 mm:\n",
      "  D = 7.000000000000002 in\n"
     ]
    }
   ],
   "source": [
    "D2 = separation(L, N2, n)  \n",
    "print('The separation of the 16T-176T belt for a loop of length L = %s mm:' % L)\n",
    "print('  D = %s in' % (D2/25.4))"
   ]
  },
  {
   "cell_type": "code",
   "execution_count": 12,
   "id": "400dde97",
   "metadata": {},
   "outputs": [
    {
     "name": "stdout",
     "output_type": "stream",
     "text": [
      "141.89047994968234\n"
     ]
    }
   ],
   "source": [
    "theta_alt = np.degrees(2*np.arccos((radius(N2)-radius(n))/156))\n",
    "print(theta_alt)"
   ]
  },
  {
   "cell_type": "code",
   "execution_count": null,
   "id": "12cdf8d8",
   "metadata": {},
   "outputs": [],
   "source": []
  }
 ],
 "metadata": {
  "kernelspec": {
   "display_name": "Python 3 (ipykernel)",
   "language": "python",
   "name": "python3"
  },
  "language_info": {
   "codemirror_mode": {
    "name": "ipython",
    "version": 3
   },
   "file_extension": ".py",
   "mimetype": "text/x-python",
   "name": "python",
   "nbconvert_exporter": "python",
   "pygments_lexer": "ipython3",
   "version": "3.10.8"
  }
 },
 "nbformat": 4,
 "nbformat_minor": 5
}
